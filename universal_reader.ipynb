{
 "cells": [
  {
   "cell_type": "code",
   "execution_count": 21,
   "metadata": {
    "collapsed": true
   },
   "outputs": [
    {
     "data": {
      "text/plain": "Nr. crt.                    Int64\nNr. Certificat              Int64\nData emiterii      datetime64[ns]\nDenumire traseu            string\nAdministrator              string\nAmplasare                  string\nJudeţ                      string\ndtype: object"
     },
     "execution_count": 21,
     "metadata": {},
     "output_type": "execute_result"
    }
   ],
   "source": [
    "import pandas as pd\n",
    "\n",
    "\n",
    "def read_original_ttmo_dataset(xls_file):\n",
    "    known_columns = [\n",
    "        'Nr. crt.',\n",
    "        'Nr. Certificat',\n",
    "        'Data emiterii',\n",
    "        'Denumire traseu',\n",
    "        'Administrator',\n",
    "        'Amplasare',\n",
    "        'Judeţ',\n",
    "        'Marcaj',\n",
    "        'Durată traseu',\n",
    "        'Grad de dificultate',\n",
    "        'Sezonalitate',\n",
    "        'Nivel de echipare solicitat'\n",
    "    ]\n",
    "    unknown_columns = []\n",
    "\n",
    "    def is_know_column(column_name: str) -> bool:\n",
    "        if column_name in known_columns:\n",
    "            return True\n",
    "        elif column_name == 'Unnamed: 0':\n",
    "            return False\n",
    "\n",
    "        unknown_columns.append(column_name)\n",
    "        return False\n",
    "\n",
    "    df = pd.read_excel(xls_file, sheet_name=0, header=5, usecols=lambda cn: is_know_column(cn), parse_dates=[3]).dropna()\n",
    "    missing_columns = [cn for cn in known_columns if cn not in df.columns.values.tolist()]\n",
    "    return df.convert_dtypes(), missing_columns, unknown_columns\n",
    "\n",
    "old_dt, old_ms, old_uk = read_original_ttmo_dataset('data/2021/10/26/original/TraseeTuristicemontaneOmologate-26.10.2021.xls')\n",
    "old_dt.dtypes"
   ]
  },
  {
   "cell_type": "code",
   "execution_count": 22,
   "outputs": [
    {
     "data": {
      "text/plain": "Nr. crt.                                Int64\nNr. Certificat                          Int64\nData emiterii                  datetime64[ns]\nDenumire traseu                        string\nAdministrator                          string\nAmplasare                              string\nJudeţ                                  string\nMarcaj                                 string\nDurată traseu                          string\nGrad de dificultate                    string\nSezonalitate                           string\nNivel de echipare solicitat            string\ndtype: object"
     },
     "execution_count": 22,
     "metadata": {},
     "output_type": "execute_result"
    }
   ],
   "source": [
    "new_dt, new_ms, new_uk = read_original_ttmo_dataset('data/2022/04/03/original/TraseeTuristicemontaneOmologate-04.03.2022.xls')\n",
    "new_dt.dtypes"
   ],
   "metadata": {
    "collapsed": false,
    "pycharm": {
     "name": "#%%\n"
    }
   }
  },
  {
   "cell_type": "code",
   "execution_count": 23,
   "outputs": [
    {
     "data": {
      "text/plain": "['Marcaj',\n 'Durată traseu',\n 'Grad de dificultate',\n 'Sezonalitate',\n 'Nivel de echipare solicitat']"
     },
     "execution_count": 23,
     "metadata": {},
     "output_type": "execute_result"
    }
   ],
   "source": [
    "old_ms"
   ],
   "metadata": {
    "collapsed": false,
    "pycharm": {
     "name": "#%%\n"
    }
   }
  },
  {
   "cell_type": "code",
   "execution_count": 24,
   "outputs": [
    {
     "data": {
      "text/plain": "[]"
     },
     "execution_count": 24,
     "metadata": {},
     "output_type": "execute_result"
    }
   ],
   "source": [
    "new_uk"
   ],
   "metadata": {
    "collapsed": false,
    "pycharm": {
     "name": "#%%\n"
    }
   }
  }
 ],
 "metadata": {
  "kernelspec": {
   "display_name": "Python 3",
   "language": "python",
   "name": "python3"
  },
  "language_info": {
   "codemirror_mode": {
    "name": "ipython",
    "version": 2
   },
   "file_extension": ".py",
   "mimetype": "text/x-python",
   "name": "python",
   "nbconvert_exporter": "python",
   "pygments_lexer": "ipython2",
   "version": "2.7.6"
  }
 },
 "nbformat": 4,
 "nbformat_minor": 0
}